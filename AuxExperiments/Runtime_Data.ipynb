{
 "cells": [
  {
   "metadata": {},
   "cell_type": "markdown",
   "source": "# Generate data for runtime experiments",
   "id": "e14fbb89e90d872a"
  },
  {
   "metadata": {
    "collapsed": true,
    "ExecuteTime": {
     "end_time": "2024-11-20T19:33:03.915436Z",
     "start_time": "2024-11-20T19:33:02.467236Z"
    }
   },
   "cell_type": "code",
   "outputs": [
    {
     "name": "stdout",
     "output_type": "stream",
     "text": [
      "Defaulting to user installation because normal site-packages is not writeable\r\n",
      "Requirement already satisfied: numpy==1.26.4 in /Users/lenakrieger/Library/Python/3.9/lib/python/site-packages (1.26.4)\r\n",
      "\u001B[33mWARNING: There was an error checking the latest version of pip.\u001B[0m\u001B[33m\r\n",
      "\u001B[0mNote: you may need to restart the kernel to use updated packages.\n"
     ]
    }
   ],
   "execution_count": 2,
   "source": [
    "\n",
    "%pip install numpy==1.26.4\n",
    "import os\n",
    "current_path = os.getcwd()\n",
    "x = current_path.rfind(\"/\")\n",
    "new_path = current_path[:x]\n",
    "os.chdir(current_path)\n",
    "\n",
    "from densired import datagen\n",
    "import numpy as np\n",
    "import pandas as pd"
   ],
   "id": "initial_id"
  },
  {
   "cell_type": "code",
   "outputs": [],
   "source": [
    "def generate_data():\n",
    "    nums = np.ones(2000)\n",
    "    nums[:1000] = 0\n",
    "    np.random.shuffle(nums)\n",
    "    sensitive = nums\n",
    "    for dim in [5,10,50,100,1000]:\n",
    "        skeleton = datagen.densityDataGen(dim=dim, clunum=2)\n",
    "        data = skeleton.generate_data( data_num=2000)\n",
    "        datax = data[:,0:-1]\n",
    "        datay = data[:,-1]\n",
    "        data = np.c_[datax, sensitive]\n",
    "        data = np.c_[data, datay]\n",
    "        df = pd.DataFrame(data, columns=['feat_{}'.format(i) for i in range(dim)]+['Sensitive','Label'])\n",
    "        df.to_csv('Data/dim/dataset_dim_{}.csv'.format(dim))\n",
    "    for i in range (5):\n",
    "        for k in [2,3,4,5,6,7,8,9]:\n",
    "            nums = np.ones(2000)\n",
    "            nums[:1000] = 0\n",
    "            np.random.shuffle(nums)\n",
    "            sensitive = nums\n",
    "            skeleton = datagen.densityDataGen(dim=10, clunum=k, seed = i)\n",
    "            data = skeleton.generate_data( data_num=2000)\n",
    "            datax = data[:,0:-1]\n",
    "            datay = data[:,-1]  \n",
    "            data = np.c_[datax, sensitive]\n",
    "            data = np.c_[data, datay]\n",
    "            df = pd.DataFrame(data, columns=['feat_{}'.format(i) for i in range(10)]+['Sensitive','Label'])\n",
    "            df.to_csv('Data/k/dataset_k_{}_{}.csv'.format(k,i))\n",
    "    skeleton = datagen.densityDataGen(dim=10, clunum=k)\n",
    "    for n in [100,200,500,1000,2000,5000,10000,20000]:\n",
    "        data = skeleton.generate_data(data_num=n)\n",
    "        nums = np.ones(n)\n",
    "        nums[:int(n/2)] = 0\n",
    "        np.random.shuffle(nums)\n",
    "        sensitive = nums\n",
    "        datax = data[:,0:-1]\n",
    "        datay = data[:,-1]\n",
    "        data = np.c_[datax, sensitive]\n",
    "        data = np.c_[data, datay]\n",
    "        df = pd.DataFrame(data, columns=['feat_{}'.format(i) for i in range(10)]+['Sensitive','Label'])\n",
    "        df.to_csv('Data/n/dataset_n_{}.csv'.format(n))"
   ],
   "metadata": {
    "collapsed": false,
    "ExecuteTime": {
     "end_time": "2024-11-20T20:09:22.861279Z",
     "start_time": "2024-11-20T20:09:22.846044Z"
    }
   },
   "id": "bebf7b87589b18c9",
   "execution_count": 7
  },
  {
   "cell_type": "code",
   "outputs": [
    {
     "name": "stdout",
     "output_type": "stream",
     "text": [
      "2000\n",
      "2000\n",
      "2000\n",
      "2000\n",
      "2000\n",
      "2000\n",
      "2000\n",
      "2000\n",
      "2000\n",
      "2000\n"
     ]
    }
   ],
   "source": [
    "generate_data()"
   ],
   "metadata": {
    "collapsed": false,
    "ExecuteTime": {
     "end_time": "2024-11-20T20:09:24.469280Z",
     "start_time": "2024-11-20T20:09:23.677849Z"
    }
   },
   "id": "130ce2fbb4b8a5d1",
   "execution_count": 8
  }
 ],
 "metadata": {
  "kernelspec": {
   "display_name": "Python 3",
   "language": "python",
   "name": "python3"
  },
  "language_info": {
   "codemirror_mode": {
    "name": "ipython",
    "version": 2
   },
   "file_extension": ".py",
   "mimetype": "text/x-python",
   "name": "python",
   "nbconvert_exporter": "python",
   "pygments_lexer": "ipython2",
   "version": "2.7.6"
  }
 },
 "nbformat": 4,
 "nbformat_minor": 5
}
