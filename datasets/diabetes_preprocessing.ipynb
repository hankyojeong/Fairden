{
 "cells": [
  {
   "cell_type": "code",
   "execution_count": 2,
   "id": "81e7d07e",
   "metadata": {},
   "outputs": [],
   "source": [
    "import os\n",
    "import numpy as np\n",
    "import pandas as pd\n",
    "import requests, sys, zipfile, io\n",
    "import pickle"
   ]
  },
  {
   "cell_type": "code",
   "execution_count": 3,
   "id": "6efe4035",
   "metadata": {},
   "outputs": [],
   "source": [
    "# load\n",
    "path = 'diabetes/pima-indians-diabetes.data'\n",
    "col_names = ['pregnant', 'glucose', 'bp', 'skin', 'insulin', 'bmi', 'pedigree', 'age', 'label']\n",
    "pima = pd.read_csv(path, header=None, names=col_names)\n",
    "feature_cols = ['pregnant', 'glucose', 'bp', 'skin', 'insulin', 'bmi', 'pedigree']\n",
    "\n",
    "# features\n",
    "inputs = pima[feature_cols].to_numpy()\n",
    "sensitives = (pima.age > np.median(pima.age)).astype(float).to_numpy() # for temp\n",
    "labels = pima.label.to_numpy() # for cls"
   ]
  },
  {
   "cell_type": "code",
   "execution_count": 4,
   "id": "3489f706",
   "metadata": {},
   "outputs": [
    {
     "name": "stdout",
     "output_type": "stream",
     "text": [
      "(768, 7) (768,) (768,)\n"
     ]
    }
   ],
   "source": [
    "\"\"\" full or subsampling \"\"\"\n",
    "subsampling = False\n",
    "subsample_size = 1000\n",
    "if not subsampling:\n",
    "    np.save('diabetes/inputs.npy', inputs)\n",
    "    np.save('diabetes/labels.npy', labels)\n",
    "    np.save('diabetes/sensitives.npy', sensitives)\n",
    "else:\n",
    "    subsample_ids = np.random.choice(n, size=subsample_size, replace=False) # 1000 samples\n",
    "    # subsample_ids0 = np.random.choice(np.where(sensitives ==0)[0], size=500, replace=False)\n",
    "    # subsample_ids1 = np.random.choice(np.where(sensitives ==1)[0], size=500, replace=False)\n",
    "    # subsample_ids = np.concatenate([subsample_ids0, subsample_ids1])\n",
    "    inputs_subsampled, sensitives_subsampled, labels_subsampled = inputs[subsample_ids], sensitives[subsample_ids], labels[subsample_ids]\n",
    "    np.save(f'diabetes/inputs_subsampled_{subsample_size}.npy', inputs)\n",
    "    np.save(f'diabetes/labels_subsampled_{subsample_size}.npy', labels)\n",
    "    np.save(f'diabetes/sensitives_subsampled_{subsample_size}.npy', sensitives)\n",
    "print(inputs.shape, labels.shape, sensitives.shape)"
   ]
  }
 ],
 "metadata": {
  "kernelspec": {
   "display_name": "nine",
   "language": "python",
   "name": "python3"
  },
  "language_info": {
   "codemirror_mode": {
    "name": "ipython",
    "version": 3
   },
   "file_extension": ".py",
   "mimetype": "text/x-python",
   "name": "python",
   "nbconvert_exporter": "python",
   "pygments_lexer": "ipython3",
   "version": "3.9.16"
  }
 },
 "nbformat": 4,
 "nbformat_minor": 5
}
