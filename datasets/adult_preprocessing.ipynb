{
 "cells": [
  {
   "cell_type": "code",
   "execution_count": 7,
   "metadata": {},
   "outputs": [],
   "source": [
    "import pickle\n",
    "import numpy as np\n",
    "import pandas as pd"
   ]
  },
  {
   "cell_type": "code",
   "execution_count": 8,
   "metadata": {},
   "outputs": [],
   "source": [
    "# Adult dataset\n",
    "np.random.seed(2026)\n",
    "\n",
    "path = 'adult/adult.data'\n",
    "race_is_sensitive_attribute = 0\n",
    "if race_is_sensitive_attribute == 1:\n",
    "    m = 5\n",
    "else:\n",
    "    m = 2\n",
    "K = 10\n",
    "df = pd.read_csv(path, header=None, sep=',')\n",
    "n = df.shape[0]\n",
    "\n",
    "# s\n",
    "sens_attr = 9\n",
    "sensitives_txt = df[sens_attr]\n",
    "sens_attributes = list(set(sensitives_txt.astype(str).values))   # =[' Male', ' Female']\n",
    "df = df.drop(columns=[sens_attr])\n",
    "sensitives = np.zeros(n, dtype=int)\n",
    "sensitives[sensitives_txt.astype(str).values == sens_attributes[1]] = 1\n",
    "\n",
    "# y\n",
    "labels = df.iloc[:, -1].to_numpy() == ' <=50K'\n",
    "labels = labels.astype(int)\n",
    "\n",
    "# x\n",
    "cont_types = np.where(df.dtypes=='int')[0] # =[0,2,4,9,10,11]\n",
    "df = df.iloc[:,cont_types]\n",
    "inputs = np.array(df.values, dtype=float)\n",
    "inputs = inputs[:,[0,1,2,3,5]]"
   ]
  },
  {
   "cell_type": "code",
   "execution_count": 10,
   "metadata": {},
   "outputs": [
    {
     "name": "stdout",
     "output_type": "stream",
     "text": [
      "(32561, 5) (32561,) (32561,)\n"
     ]
    }
   ],
   "source": [
    "\"\"\" full or subsampling \"\"\"\n",
    "subsampling = False\n",
    "subsample_size = 1000\n",
    "if not subsampling:\n",
    "    np.save('adult/inputs.npy', inputs)\n",
    "    np.save('adult/labels.npy', labels)\n",
    "    np.save('adult/sensitives.npy', sensitives)\n",
    "else:\n",
    "    subsample_ids = np.random.choice(n, size=subsample_size, replace=False) # 1000 samples\n",
    "    # subsample_ids0 = np.random.choice(np.where(sensitives ==0)[0], size=500, replace=False)\n",
    "    # subsample_ids1 = np.random.choice(np.where(sensitives ==1)[0], size=500, replace=False)\n",
    "    # subsample_ids = np.concatenate([subsample_ids0, subsample_ids1])\n",
    "    inputs_subsampled, sensitives_subsampled, labels_subsampled = inputs[subsample_ids], sensitives[subsample_ids], labels[subsample_ids]\n",
    "    np.save(f'adult/inputs_subsampled_{subsample_size}.npy', inputs)\n",
    "    np.save(f'adult/labels_subsampled_{subsample_size}.npy', labels)\n",
    "    np.save(f'adult/sensitives_subsampled_{subsample_size}.npy', sensitives)\n",
    "print(inputs.shape, labels.shape, sensitives.shape)"
   ]
  }
 ],
 "metadata": {
  "kernelspec": {
   "display_name": "nine",
   "language": "python",
   "name": "python3"
  },
  "language_info": {
   "codemirror_mode": {
    "name": "ipython",
    "version": 3
   },
   "file_extension": ".py",
   "mimetype": "text/x-python",
   "name": "python",
   "nbconvert_exporter": "python",
   "pygments_lexer": "ipython3",
   "version": "3.9.16"
  }
 },
 "nbformat": 4,
 "nbformat_minor": 2
}
