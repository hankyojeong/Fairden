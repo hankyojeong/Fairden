{
 "cells": [
  {
   "cell_type": "code",
   "execution_count": 1,
   "metadata": {},
   "outputs": [],
   "source": [
    "import os\n",
    "import numpy as np\n",
    "import pandas\n",
    "import requests, sys, zipfile, io\n",
    "import pickle"
   ]
  },
  {
   "cell_type": "code",
   "execution_count": 9,
   "metadata": {},
   "outputs": [
    {
     "name": "stdout",
     "output_type": "stream",
     "text": [
      "Index(['age', 'job', 'marital', 'education', 'default', 'housing', 'loan',\n",
      "       'contact', 'month', 'day_of_week', 'duration', 'campaign', 'pdays',\n",
      "       'previous', 'poutcome', 'emp.var.rate', 'cons.price.idx',\n",
      "       'cons.conf.idx', 'euribor3m', 'nr.employed', 'y'],\n",
      "      dtype='object')\n"
     ]
    }
   ],
   "source": [
    "data_dir = 'bank(3)/'\n",
    "\n",
    "# n= 6000\n",
    "# K = 4\n",
    "K = 10\n",
    "_path = 'bank-additional-full.csv' # Big dataset with 41108 samples\n",
    "# _path = 'bank.csv' # most approaches use this small version with 4521 samples\n",
    "data_path = os.path.join(data_dir, _path)\n",
    "if (not os.path.exists(data_path)): \n",
    "\n",
    "    print('Bank dataset does not exist in current folder --- Have to download it')\n",
    "    r = requests.get('https://archive.ics.uci.edu/ml/machine-learning-databases/00222/bank-additional.zip', allow_redirects=True)\n",
    "    # r = requests.get('https://archive.ics.uci.edu/ml/machine-learning-databases/00222/bank.zip', allow_redirects=True)\n",
    "    if r.status_code == requests.codes.ok:\n",
    "        print('Download successful')\n",
    "    else:\n",
    "        print('Could not download - please download')\n",
    "        sys.exit()\n",
    "\n",
    "    z = zipfile.ZipFile(io.BytesIO(r.content))\n",
    "    # z.extract('bank-additional/bank-additional-full.csv','./data')\n",
    "    open(data_path, 'wb').write(z.read('bank-additional/bank-additional-full.csv'))\n",
    "    # open(data_path, 'wb').write(z.read('bank.csv'))\n",
    "\n",
    "df = pandas.read_csv(data_path,sep=';')\n",
    "print(df.columns)\n",
    "#        shape = df.shape\n",
    "\n",
    "#        df = df.loc[np.random.choice(df.index, n, replace=False)]\n",
    "sex = df['marital'].astype(str).values\n",
    "sens_attributes = list(set(sex))\n",
    "\n",
    "if 'unknown' in sens_attributes:\n",
    "    sens_attributes.remove('unknown')\n",
    "\n",
    "df1 = df.loc[df['marital'] == sens_attributes[0]]\n",
    "df2 = df.loc[df['marital'] == sens_attributes[1]]\n",
    "df3 = df.loc[df['marital'] == sens_attributes[2]]\n",
    "\n",
    "df = [df1, df2, df3]\n",
    "df = pandas.concat(df)\n",
    "sex = df['marital'].astype(str).values\n",
    "labels = (df['y'].astype(str).values == 'yes').astype(np.int64)\n",
    "\n",
    "df = df[['age','duration','euribor3m', 'nr.employed', 'cons.price.idx', 'campaign']].values\n",
    "# df = df[['age','duration','balance']].values\n",
    "\n",
    "sens_attributes = list(set(sex))\n",
    "sex_num = np.zeros(df.shape[0], dtype=int)\n",
    "sex_num[sex == sens_attributes[1]] = 1\n",
    "sex_num[sex == sens_attributes[2]] = 2\n",
    "\n",
    "binary_sex_num = np.zeros(df.shape[0], dtype=int)\n",
    "binary_sex_num[sex == sens_attributes[1]] = 1\n",
    "binary_sex_num[sex == sens_attributes[2]] = 1\n",
    "\n",
    "inputs = np.array(df, dtype=float)\n",
    "\n",
    "n = inputs.shape[0]\n",
    "sensitives = sex_num\n",
    "binary_sensitives = binary_sex_num"
   ]
  },
  {
   "cell_type": "code",
   "execution_count": null,
   "metadata": {},
   "outputs": [
    {
     "name": "stdout",
     "output_type": "stream",
     "text": [
      "(41108, 6) (41108,) (41108,)\n"
     ]
    }
   ],
   "source": [
    "\"\"\" full or subsampling (three groups) \"\"\"\n",
    "subsampling = False\n",
    "subsample_size = 1000\n",
    "if not subsampling:\n",
    "    np.save('bank(3)/inputs.npy', inputs)\n",
    "    np.save('bank(3)/labels.npy', labels)\n",
    "    np.save('bank(3)/sensitives.npy', sensitives)\n",
    "else:\n",
    "    subsample_ids = np.random.choice(n, size=subsample_size, replace=False) # 1000 samples\n",
    "    # subsample_ids0 = np.random.choice(np.where(sensitives ==0)[0], size=500, replace=False)\n",
    "    # subsample_ids1 = np.random.choice(np.where(sensitives ==1)[0], size=500, replace=False)\n",
    "    # subsample_ids = np.concatenate([subsample_ids0, subsample_ids1])\n",
    "    inputs_subsampled, sensitives_subsampled, labels_subsampled = inputs[subsample_ids], sensitives[subsample_ids], labels[subsample_ids]\n",
    "    np.save(f'bank(3)/inputs_subsampled_{subsample_size}.npy', inputs)\n",
    "    np.save(f'bank(3)/labels_subsampled_{subsample_size}.npy', labels)\n",
    "    np.save(f'bank(3)/sensitives_subsampled_{subsample_size}.npy', sensitives)\n",
    "print(inputs.shape, labels.shape, sensitives.shape)"
   ]
  },
  {
   "cell_type": "code",
   "execution_count": 10,
   "metadata": {},
   "outputs": [
    {
     "name": "stdout",
     "output_type": "stream",
     "text": [
      "(41108, 6) (41108,) (41108,)\n"
     ]
    }
   ],
   "source": [
    "\"\"\" full or subsampling (two groups) \"\"\"\n",
    "subsampling = False\n",
    "subsample_size = 1000\n",
    "if not subsampling:\n",
    "    np.save('bank(2)/inputs.npy', inputs)\n",
    "    np.save('bank(2)/labels.npy', labels)\n",
    "    np.save('bank(2)/sensitives.npy', binary_sensitives)\n",
    "else:\n",
    "    subsample_ids = np.random.choice(n, size=subsample_size, replace=False) # 1000 samples\n",
    "    # subsample_ids0 = np.random.choice(np.where(sensitives ==0)[0], size=500, replace=False)\n",
    "    # subsample_ids1 = np.random.choice(np.where(sensitives ==1)[0], size=500, replace=False)\n",
    "    # subsample_ids = np.concatenate([subsample_ids0, subsample_ids1])\n",
    "    inputs_subsampled, sensitives_subsampled, labels_subsampled = inputs[subsample_ids], binary_sensitives[subsample_ids], labels[subsample_ids]\n",
    "    np.save(f'bank(2)/inputs_subsampled_{subsample_size}.npy', inputs)\n",
    "    np.save(f'bank(2)/labels_subsampled_{subsample_size}.npy', labels)\n",
    "    np.save(f'bank(2)/sensitives_subsampled_{subsample_size}.npy', binary_sensitives)\n",
    "print(inputs.shape, labels.shape, binary_sensitives.shape)"
   ]
  }
 ],
 "metadata": {
  "kernelspec": {
   "display_name": "nine",
   "language": "python",
   "name": "python3"
  },
  "language_info": {
   "codemirror_mode": {
    "name": "ipython",
    "version": 3
   },
   "file_extension": ".py",
   "mimetype": "text/x-python",
   "name": "python",
   "nbconvert_exporter": "python",
   "pygments_lexer": "ipython3",
   "version": "3.9.16"
  }
 },
 "nbformat": 4,
 "nbformat_minor": 2
}
